{
 "cells": [
  {
   "cell_type": "code",
   "execution_count": 16,
   "id": "4843ec46-fdbb-43ed-b203-150377eaf40c",
   "metadata": {},
   "outputs": [
    {
     "name": "stdout",
     "output_type": "stream",
     "text": [
      "[[22]\n",
      " [33]\n",
      " [45]]\n",
      "(3, 4)\n",
      "[[1.]\n",
      " [1.]\n",
      " [1.]]\n",
      "[[1.0e+00 1.8e+01 5.0e+03 1.0e+01 1.0e+00]\n",
      " [1.0e+00 2.1e+01 6.0e+03 9.0e+00 3.0e+00]\n",
      " [1.0e+00 3.3e+01 8.0e+03 5.0e+00 7.0e+00]]\n"
     ]
    }
   ],
   "source": [
    "import numpy as np\n",
    "import pandas as pd\n",
    "\n",
    "weights = 0\n",
    "bias = 0\n",
    "\n",
    "def fit (features, target):\n",
    "    pass\n",
    "\n",
    "target = np.array([[22],[33],[45]])\n",
    "print(target)\n",
    "        \n",
    "data = {'Age': [18, 21, 33],\n",
    "        'Price': [5000, 6000, 8000],\n",
    "       'Bitches': [10, 9, 5],\n",
    "       'Country': [1,3,7]}\n",
    "        \n",
    "X = pd.DataFrame.from_dict(data)\n",
    "print (X.shape)\n",
    "\n",
    "newarr = np.ones([X.shape[0],1])\n",
    "print(newarr)\n",
    "\n",
    "colided = np.hstack([newarr, X.values])\n",
    "print(colided)\n",
    "\n"
   ]
  },
  {
   "cell_type": "code",
   "execution_count": 7,
   "id": "10403dee-52ff-4a35-9714-2cd8a7bdcc4f",
   "metadata": {},
   "outputs": [
    {
     "data": {
      "text/html": [
       "<div>\n",
       "<style scoped>\n",
       "    .dataframe tbody tr th:only-of-type {\n",
       "        vertical-align: middle;\n",
       "    }\n",
       "\n",
       "    .dataframe tbody tr th {\n",
       "        vertical-align: top;\n",
       "    }\n",
       "\n",
       "    .dataframe thead th {\n",
       "        text-align: right;\n",
       "    }\n",
       "</style>\n",
       "<table border=\"1\" class=\"dataframe\">\n",
       "  <thead>\n",
       "    <tr style=\"text-align: right;\">\n",
       "      <th></th>\n",
       "      <th>Age</th>\n",
       "      <th>Price</th>\n",
       "      <th>Bitches</th>\n",
       "      <th>Country</th>\n",
       "    </tr>\n",
       "  </thead>\n",
       "  <tbody>\n",
       "    <tr>\n",
       "      <th>0</th>\n",
       "      <td>18</td>\n",
       "      <td>5000</td>\n",
       "      <td>10</td>\n",
       "      <td>1</td>\n",
       "    </tr>\n",
       "    <tr>\n",
       "      <th>1</th>\n",
       "      <td>21</td>\n",
       "      <td>6000</td>\n",
       "      <td>9</td>\n",
       "      <td>3</td>\n",
       "    </tr>\n",
       "    <tr>\n",
       "      <th>2</th>\n",
       "      <td>33</td>\n",
       "      <td>8000</td>\n",
       "      <td>5</td>\n",
       "      <td>7</td>\n",
       "    </tr>\n",
       "  </tbody>\n",
       "</table>\n",
       "</div>"
      ],
      "text/plain": [
       "   Age  Price  Bitches  Country\n",
       "0   18   5000       10        1\n",
       "1   21   6000        9        3\n",
       "2   33   8000        5        7"
      ]
     },
     "execution_count": 7,
     "metadata": {},
     "output_type": "execute_result"
    }
   ],
   "source": [
    "X"
   ]
  },
  {
   "cell_type": "code",
   "execution_count": 19,
   "id": "2542956f-3918-4797-8256-29024c0bda80",
   "metadata": {},
   "outputs": [
    {
     "data": {
      "text/plain": [
       "array([[-2.27275000e+03],\n",
       "       [-4.47750000e+02],\n",
       "       [ 1.71484375e+00],\n",
       "       [ 5.37000000e+02],\n",
       "       [ 1.67000000e+02]])"
      ]
     },
     "execution_count": 19,
     "metadata": {},
     "output_type": "execute_result"
    }
   ],
   "source": [
    "weights = np.linalg.inv(colided.T@colided)@colided.T@target\n",
    "weights"
   ]
  },
  {
   "cell_type": "code",
   "execution_count": 20,
   "id": "e80a3a56-6999-4fa1-8c4b-7839b77226b4",
   "metadata": {},
   "outputs": [
    {
     "data": {
      "text/plain": [
       "array([[3778.96875],\n",
       "       [3947.5625 ],\n",
       "       [ 524.25   ]])"
      ]
     },
     "execution_count": 20,
     "metadata": {},
     "output_type": "execute_result"
    }
   ],
   "source": [
    "prediction = colided@weights\n",
    "prediction"
   ]
  }
 ],
 "metadata": {
  "kernelspec": {
   "display_name": "Python 3 (ipykernel)",
   "language": "python",
   "name": "python3"
  },
  "language_info": {
   "codemirror_mode": {
    "name": "ipython",
    "version": 3
   },
   "file_extension": ".py",
   "mimetype": "text/x-python",
   "name": "python",
   "nbconvert_exporter": "python",
   "pygments_lexer": "ipython3",
   "version": "3.9.18"
  }
 },
 "nbformat": 4,
 "nbformat_minor": 5
}
