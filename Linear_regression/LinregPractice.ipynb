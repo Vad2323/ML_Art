{
 "cells": [
  {
   "cell_type": "code",
   "execution_count": 11,
   "id": "e27bdee3-1ae7-43e1-92c6-dccbd553fa09",
   "metadata": {},
   "outputs": [],
   "source": [
    "import numpy as np\n",
    "import pandas as pd\n",
    "from datasets import load_dataset\n",
    "\n",
    "ds = load_dataset(\"H4438/Learn-LinearRegression\")\n",
    "\n"
   ]
  },
  {
   "cell_type": "code",
   "execution_count": 12,
   "id": "ce772bd1-21fd-4759-b8f2-e82f2e88563f",
   "metadata": {},
   "outputs": [
    {
     "data": {
      "text/plain": [
       "DatasetDict({\n",
       "    train: Dataset({\n",
       "        features: ['TV', 'Radio', 'Newspaper', 'Sales'],\n",
       "        num_rows: 150\n",
       "    })\n",
       "    test: Dataset({\n",
       "        features: ['TV', 'Radio', 'Newspaper', 'Sales'],\n",
       "        num_rows: 50\n",
       "    })\n",
       "})"
      ]
     },
     "execution_count": 12,
     "metadata": {},
     "output_type": "execute_result"
    }
   ],
   "source": [
    "df = pd.DataFrame(ds['train'])\n",
    "df.head()\n",
    "ds"
   ]
  },
  {
   "cell_type": "code",
   "execution_count": 13,
   "id": "2ebea04a-9317-4aba-9b3e-22cca6f0b667",
   "metadata": {},
   "outputs": [
    {
     "data": {
      "text/html": [
       "<div>\n",
       "<style scoped>\n",
       "    .dataframe tbody tr th:only-of-type {\n",
       "        vertical-align: middle;\n",
       "    }\n",
       "\n",
       "    .dataframe tbody tr th {\n",
       "        vertical-align: top;\n",
       "    }\n",
       "\n",
       "    .dataframe thead th {\n",
       "        text-align: right;\n",
       "    }\n",
       "</style>\n",
       "<table border=\"1\" class=\"dataframe\">\n",
       "  <thead>\n",
       "    <tr style=\"text-align: right;\">\n",
       "      <th></th>\n",
       "      <th>TV</th>\n",
       "      <th>Radio</th>\n",
       "      <th>Newspaper</th>\n",
       "      <th>Sales</th>\n",
       "    </tr>\n",
       "  </thead>\n",
       "  <tbody>\n",
       "    <tr>\n",
       "      <th>0</th>\n",
       "      <td>193.2</td>\n",
       "      <td>18.4</td>\n",
       "      <td>65.7</td>\n",
       "      <td>20.2</td>\n",
       "    </tr>\n",
       "    <tr>\n",
       "      <th>1</th>\n",
       "      <td>217.7</td>\n",
       "      <td>33.5</td>\n",
       "      <td>59.0</td>\n",
       "      <td>19.4</td>\n",
       "    </tr>\n",
       "    <tr>\n",
       "      <th>2</th>\n",
       "      <td>75.5</td>\n",
       "      <td>10.8</td>\n",
       "      <td>6.0</td>\n",
       "      <td>11.9</td>\n",
       "    </tr>\n",
       "    <tr>\n",
       "      <th>3</th>\n",
       "      <td>239.8</td>\n",
       "      <td>4.1</td>\n",
       "      <td>36.9</td>\n",
       "      <td>17.3</td>\n",
       "    </tr>\n",
       "    <tr>\n",
       "      <th>4</th>\n",
       "      <td>88.3</td>\n",
       "      <td>25.5</td>\n",
       "      <td>73.4</td>\n",
       "      <td>12.9</td>\n",
       "    </tr>\n",
       "  </tbody>\n",
       "</table>\n",
       "</div>"
      ],
      "text/plain": [
       "      TV  Radio  Newspaper  Sales\n",
       "0  193.2   18.4       65.7   20.2\n",
       "1  217.7   33.5       59.0   19.4\n",
       "2   75.5   10.8        6.0   11.9\n",
       "3  239.8    4.1       36.9   17.3\n",
       "4   88.3   25.5       73.4   12.9"
      ]
     },
     "execution_count": 13,
     "metadata": {},
     "output_type": "execute_result"
    }
   ],
   "source": [
    "dt = pd.DataFrame(ds['test'])\n",
    "dt.head()"
   ]
  },
  {
   "cell_type": "code",
   "execution_count": 14,
   "id": "21f02661-6b5e-4032-ae21-fb0da18a66c6",
   "metadata": {},
   "outputs": [],
   "source": [
    "X_train = df[['TV', 'Radio', 'Newspaper']] \n",
    "y_train = df['Sales']\n",
    "X_test = dt[['TV', 'Radio', 'Newspaper']] \n",
    "y_test = dt['Sales']"
   ]
  },
  {
   "cell_type": "code",
   "execution_count": 15,
   "id": "39375d49-82aa-4f0a-92fa-1ff41618f64f",
   "metadata": {},
   "outputs": [
    {
     "data": {
      "text/plain": [
       "array([17.05325754, 19.92137825,  9.86699496, 18.06079804, 12.14119777,\n",
       "       13.84107872,  6.95906555, 20.39065453, 16.78855074, 20.01922865,\n",
       "       12.22254466, 14.27281758, 10.72389713, 12.59579376, 11.42862445,\n",
       "        8.89474872, 13.03673259, 19.33812043, 13.7074316 ,  8.72543224,\n",
       "       20.64716659, 16.98156453,  9.76788899,  9.16058967,  7.79153914,\n",
       "        8.01167203,  6.10246933, 12.38683257, 16.30760741, 10.40755519,\n",
       "       15.59481236, 13.27118748, 14.8893821 , 20.83904589, 12.27202949,\n",
       "        9.7895721 , 15.87050993,  9.35413039, 22.03291098,  7.08157881,\n",
       "       23.57627411,  8.58858933, 15.80043215, 20.77324342, 14.49793502,\n",
       "       11.64058277,  5.45463426, 21.05195114, 16.41872399, 16.5940692 ])"
      ]
     },
     "execution_count": 15,
     "metadata": {},
     "output_type": "execute_result"
    }
   ],
   "source": [
    "\n",
    "from sklearn.linear_model import LinearRegression\n",
    "\n",
    "reg = LinearRegression().fit(X_train, y_train)\n",
    "\n",
    "reg.predict(X_test)"
   ]
  },
  {
   "cell_type": "code",
   "execution_count": 16,
   "id": "670d7747-20b5-4322-9a4a-86c0c2b9d32b",
   "metadata": {},
   "outputs": [
    {
     "name": "stdout",
     "output_type": "stream",
     "text": [
      "[17.05325754 19.92137825  9.86699496 18.06079804 12.14119777 13.84107872\n",
      "  6.95906555 20.39065453 16.78855074 20.01922865 12.22254466 14.27281758\n",
      " 10.72389713 12.59579376 11.42862445  8.89474872 13.03673259 19.33812043\n",
      " 13.7074316   8.72543224 20.64716659 16.98156453  9.76788899  9.16058967\n",
      "  7.79153914  8.01167203  6.10246933 12.38683257 16.30760741 10.40755519\n",
      " 15.59481236 13.27118748 14.8893821  20.83904589 12.27202949  9.7895721\n",
      " 15.87050993  9.35413039 22.03291098  7.08157881 23.57627411  8.58858933\n",
      " 15.80043215 20.77324342 14.49793502 11.64058277  5.45463426 21.05195114\n",
      " 16.41872399 16.5940692 ]\n"
     ]
    }
   ],
   "source": [
    "predicted = reg.predict(X_test)\n",
    "print(predicted)"
   ]
  },
  {
   "cell_type": "code",
   "execution_count": 19,
   "id": "08b24c3f-0ee4-4f35-8f67-4a6abc7ec6bf",
   "metadata": {},
   "outputs": [
    {
     "name": "stdout",
     "output_type": "stream",
     "text": [
      "The accuracy of our model is 92.0%\n"
     ]
    }
   ],
   "source": [
    "from sklearn.metrics import r2_score\n",
    "score = r2_score(y_test, predicted)\n",
    "print(\"The accuracy of our model is {}%\".format(round(score, 2) *100))"
   ]
  }
 ],
 "metadata": {
  "kernelspec": {
   "display_name": "Python 3 (ipykernel)",
   "language": "python",
   "name": "python3"
  },
  "language_info": {
   "codemirror_mode": {
    "name": "ipython",
    "version": 3
   },
   "file_extension": ".py",
   "mimetype": "text/x-python",
   "name": "python",
   "nbconvert_exporter": "python",
   "pygments_lexer": "ipython3",
   "version": "3.9.18"
  }
 },
 "nbformat": 4,
 "nbformat_minor": 5
}
